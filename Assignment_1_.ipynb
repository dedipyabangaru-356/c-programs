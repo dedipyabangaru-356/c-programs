{
  "nbformat": 4,
  "nbformat_minor": 0,
  "metadata": {
    "colab": {
      "name": "Assignment 1 .ipynb",
      "provenance": [],
      "authorship_tag": "ABX9TyPO7g3rhjoPW1WRIRBHVpWT",
      "include_colab_link": true
    },
    "kernelspec": {
      "name": "python3",
      "display_name": "Python 3"
    },
    "language_info": {
      "name": "python"
    }
  },
  "cells": [
    {
      "cell_type": "markdown",
      "metadata": {
        "id": "view-in-github",
        "colab_type": "text"
      },
      "source": [
        "<a href=\"https://colab.research.google.com/github/dedipyabangaru-356/c-programs/blob/main/Assignment_1_.ipynb\" target=\"_parent\"><img src=\"https://colab.research.google.com/assets/colab-badge.svg\" alt=\"Open In Colab\"/></a>"
      ]
    },
    {
      "cell_type": "markdown",
      "source": [
        "Taking input"
      ],
      "metadata": {
        "id": "v-Vt4A7JFUQm"
      }
    },
    {
      "cell_type": "code",
      "execution_count": null,
      "metadata": {
        "id": "DtUdclzGhu0B",
        "colab": {
          "base_uri": "https://localhost:8080/"
        },
        "outputId": "278e23cd-064b-4470-ff98-cc9bdaeb5519"
      },
      "outputs": [
        {
          "output_type": "stream",
          "name": "stdout",
          "text": [
            "23\n",
            "23\n"
          ]
        }
      ],
      "source": [
        "#Taking input\n",
        "a=input()\n",
        "print(a)"
      ]
    },
    {
      "cell_type": "markdown",
      "source": [
        "Printing different datatypes using print and .format"
      ],
      "metadata": {
        "id": "Un4T1z2WFPru"
      }
    },
    {
      "cell_type": "code",
      "source": [
        "#printing different datatypes using print and .format\n",
        "a=2\n",
        "print(a)\n",
        "b='dedipya'\n",
        "print(b)\n",
        "c=float(a)\n",
        "print(c)\n",
        "d=True\n",
        "print(d)\n",
        "e=complex(a)\n",
        "print(e)\n",
        "print(\"this is the .format output\")\n",
        "#.format\n",
        "datatypes=\"int={},string={},float={},boolean={},complex={}\"\n",
        "print(datatypes.format(a,b,c,d,e))"
      ],
      "metadata": {
        "colab": {
          "base_uri": "https://localhost:8080/"
        },
        "id": "hAnQ-cCiYMDp",
        "outputId": "a4736f4d-7b25-41a9-9e03-9aec9b8d9360"
      },
      "execution_count": null,
      "outputs": [
        {
          "output_type": "stream",
          "name": "stdout",
          "text": [
            "2\n",
            "dedipya\n",
            "2.0\n",
            "True\n",
            "(2+0j)\n",
            "this is the .format output\n",
            "int=2,string=dedipya,float=2.0,boolean=True,complex=(2+0j)\n"
          ]
        }
      ]
    },
    {
      "cell_type": "markdown",
      "source": [
        "Take 2 numbers as user input and add, multiply, divide, subtract, remainder and print \n",
        "the output"
      ],
      "metadata": {
        "id": "af3bzGXiFDgR"
      }
    },
    {
      "cell_type": "code",
      "source": [
        "a=float(input('num 1 ='))\n",
        "b=float(input('num 2 ='))\n",
        "#addition\n",
        "A=a+b\n",
        "#substraction\n",
        "S=a-b\n",
        "#multiplication\n",
        "M=a*b\n",
        "#division\n",
        "D=a/b\n",
        "#reminder\n",
        "R=a%b\n",
        "output=\"addition={} ; substraction={} ; multiplication={} ; division={} ; reminder={}\"\n",
        "print(output.format(A,S,M,D,R))"
      ],
      "metadata": {
        "colab": {
          "base_uri": "https://localhost:8080/"
        },
        "id": "2fnAvTgCcXPn",
        "outputId": "65261dc6-748a-4f4d-dc83-ff91369ba20d"
      },
      "execution_count": null,
      "outputs": [
        {
          "output_type": "stream",
          "name": "stdout",
          "text": [
            "num 1 =10\n",
            "num 2 =5\n",
            "addition=15.0 ; substraction=5.0 ; multiplication=50.0 ; division=2.0 ; reminder=0.0\n"
          ]
        }
      ]
    },
    {
      "cell_type": "markdown",
      "source": [
        "Convertion of units"
      ],
      "metadata": {
        "id": "Y9r0EvThE3r6"
      }
    },
    {
      "cell_type": "code",
      "source": [
        "#convertion of units\n",
        "a=float(input(\"hour=\"))\n",
        "b=float(input('mile='))\n",
        "print('hours to minutes =',a*60)\n",
        "print('miles to km =',a*1.609)\n"
      ],
      "metadata": {
        "colab": {
          "base_uri": "https://localhost:8080/"
        },
        "id": "qWBszbRCehDf",
        "outputId": "cb8521fa-003e-49ad-9595-f12b96e5e00c"
      },
      "execution_count": null,
      "outputs": [
        {
          "output_type": "stream",
          "name": "stdout",
          "text": [
            "hour=1\n",
            "mile=3\n",
            "hours to minutes = 60.0\n",
            "miles to km = 1.609\n"
          ]
        }
      ]
    },
    {
      "cell_type": "markdown",
      "source": [
        "Using mathematical functions"
      ],
      "metadata": {
        "id": "Z3rnEAmaEz44"
      }
    },
    {
      "cell_type": "code",
      "source": [
        "#Using mathematical functions\n",
        "import math\n",
        "a=float(input('num 1='))\n",
        "b=float(input('num 2='))\n",
        "#math.ceil\n",
        "print('math.ceil=',math.ceil(a))\n",
        "#math.floor\n",
        "print('math.floor=',math.floor(a))\n",
        "#math.fabs\n",
        "print('math.fabs=',math.fabs(a))\n",
        "#math.fmod\n",
        "print('math.fmod=',math.fmod(a,b))\n",
        "#math.trunc\n",
        "print('math.trunc=',math.trunc(a))\n",
        "#math.pow\n",
        "print('math.pow=',math.pow(a,b))\n",
        "#math.sqrt\n",
        "print('math.sqrt=',math.sqrt(a))"
      ],
      "metadata": {
        "colab": {
          "base_uri": "https://localhost:8080/"
        },
        "id": "-BxSW73PgARc",
        "outputId": "a5c34661-4f82-41cc-ae39-84c8ef95c335"
      },
      "execution_count": null,
      "outputs": [
        {
          "output_type": "stream",
          "name": "stdout",
          "text": [
            "num 1=4\n",
            "num 2=1\n",
            "math.ceil= 4\n",
            "math.floor= 4\n",
            "math.fabs= 4.0\n",
            "math.fmod= 0.0\n",
            "math.trunc= 4\n",
            "math.pow= 4.0\n",
            "math.sqrt= 2.0\n"
          ]
        }
      ]
    },
    {
      "cell_type": "markdown",
      "source": [
        "Mathematical calculator"
      ],
      "metadata": {
        "id": "Xxz_YpHUEuuL"
      }
    },
    {
      "cell_type": "code",
      "source": [
        "#mathematical calculator\n",
        "a=float(input('a='))\n",
        "b=float(input('b='))\n",
        "o=input(\"operation=\")\n",
        "if (o=='+'):\n",
        "  print(a+b)\n",
        "elif (o=='*'):\n",
        "  print(a*b)\n",
        "elif(o=='-'):\n",
        "  print(a-b)\n",
        "elif(o=='/'):\n",
        "  print(a/b)\n",
        "elif(o=='%'):\n",
        "  print(a%b)\n",
        "else:\n",
        "  print('!!! operand invalid !!!')"
      ],
      "metadata": {
        "colab": {
          "base_uri": "https://localhost:8080/"
        },
        "id": "F-MHBAbOj2rY",
        "outputId": "815a75b3-1d14-4d65-a34b-813fc3ed7e3e"
      },
      "execution_count": null,
      "outputs": [
        {
          "output_type": "stream",
          "name": "stdout",
          "text": [
            "a=8\n",
            "b=4\n",
            "operation=+\n",
            "12.0\n"
          ]
        }
      ]
    },
    {
      "cell_type": "markdown",
      "source": [
        "grade of student for 5 subjects"
      ],
      "metadata": {
        "id": "aj4r9hqJnDeE"
      }
    },
    {
      "cell_type": "code",
      "source": [
        "#grade of student for 5 subjects\n",
        "m=[]\n",
        "n=0\n",
        "for i in range (5) :\n",
        " m.append(int(input(f\"marks of {(i+1)} st subject\")))\n",
        "n=n+m[0]+m[1]+m[2]+m[3]+m[4]\n",
        "avg=n/5\n",
        "print(f\"the average grade of student is : {avg}\")"
      ],
      "metadata": {
        "id": "4Ga3RVEhlqY4",
        "colab": {
          "base_uri": "https://localhost:8080/"
        },
        "outputId": "f654fd04-4fcf-4ea5-e0cf-de8a92cd01da"
      },
      "execution_count": null,
      "outputs": [
        {
          "output_type": "stream",
          "name": "stdout",
          "text": [
            "marks of 1 st subject89\n",
            "marks of 2 st subject85\n",
            "marks of 3 st subject92\n",
            "marks of 4 st subject93\n",
            "marks of 5 st subject98\n",
            "the average grade of student is : 91.4\n"
          ]
        }
      ]
    },
    {
      "cell_type": "markdown",
      "source": [
        "Printing all even numbers, odd numbers, count of even numbers, count of odd numbers \n",
        "within a given range."
      ],
      "metadata": {
        "id": "Mc9A9lkJ6A7D"
      }
    },
    {
      "cell_type": "code",
      "source": [
        "a=int(input(\"range = \"))\n",
        "print(\"even numbers:\")\n",
        "c=0\n",
        "for i in range(1,a+1):\n",
        " if(i%2==0):\n",
        "  c+=1\n",
        "  print(i,end=\"\\t\")\n",
        "print(\"\\nno of even numbers =\",c)\n",
        "print(\"odd numbers:  \")\n",
        "d=0\n",
        "for j in range(1,a+1):\n",
        " if(j%2!=0):\n",
        "  d+=1\n",
        "  print(j,end=\"\\t\")\n",
        "print(\"\\nno of odd numbers = \",d)"
      ],
      "metadata": {
        "id": "7WdtKRFAmtYi",
        "colab": {
          "base_uri": "https://localhost:8080/"
        },
        "outputId": "c1fde76f-2f8a-45b1-a08e-5cfd7efaf612"
      },
      "execution_count": null,
      "outputs": [
        {
          "output_type": "stream",
          "name": "stdout",
          "text": [
            "range = 7\n",
            "even numbers:\n",
            "2\t4\t6\t\n",
            "no of even numbers = 3\n",
            "odd numbers:  \n",
            "1\t3\t5\t7\t\n",
            "no of odd numbers =  4\n"
          ]
        }
      ]
    },
    {
      "cell_type": "markdown",
      "source": [
        "Factorial of a given number, GCD of two given \n",
        "numbers, Fibonacci series up to N numbers"
      ],
      "metadata": {
        "id": "7wQM96_L71FK"
      }
    },
    {
      "cell_type": "code",
      "source": [
        "#factorial of given number\n",
        "n=int(input(\"number = \"))\n",
        "f=1\n",
        "for i in range(1,n+1):\n",
        "  f=f*i\n",
        "print(\"factorial of given number =\",f)"
      ],
      "metadata": {
        "colab": {
          "base_uri": "https://localhost:8080/"
        },
        "id": "XuIrnAeb8F-U",
        "outputId": "2b2e301a-2c36-4b9e-c7d2-84b1f6bca60e"
      },
      "execution_count": null,
      "outputs": [
        {
          "output_type": "stream",
          "name": "stdout",
          "text": [
            "number = 6\n",
            "factorial of given number = 720\n"
          ]
        }
      ]
    },
    {
      "cell_type": "code",
      "source": [
        "#GCD of two given numbers\n",
        "a=int(input(\"num 1= \"))\n",
        "b=int(input(\"num 2= \"))\n",
        "t=a if (a<b) else b\n",
        "while True:\n",
        "  if(a%t==0 and b%t==0):\n",
        "   break\n",
        "  t-=1\n",
        "print('GCD of the numbers =',t)"
      ],
      "metadata": {
        "colab": {
          "base_uri": "https://localhost:8080/"
        },
        "id": "gDoYRUAx8sAn",
        "outputId": "fca9bcfc-422b-48bd-e3c9-d26255cf9841"
      },
      "execution_count": null,
      "outputs": [
        {
          "output_type": "stream",
          "name": "stdout",
          "text": [
            "num 1= 4\n",
            "num 2= 8\n",
            "GCD of the numbers = 4\n"
          ]
        }
      ]
    },
    {
      "cell_type": "code",
      "source": [
        "#Fibonacci series up to N numbers\n",
        "a=int(input('number = '))\n",
        "b=0\n",
        "c=1\n",
        "d=0\n",
        "while a>=d :\n",
        "  if (a>=b and a>=c) :\n",
        "    print(f\"{b} \",end=\" \")\n",
        "    print(f\"{c}\",end=\" \")\n",
        "  else:\n",
        "          print(f\"{b}\",end=\" \")\n",
        "  d=b+c\n",
        "  c=c+d\n",
        "  b=d"
      ],
      "metadata": {
        "colab": {
          "base_uri": "https://localhost:8080/"
        },
        "id": "UbWUC_I_-dRF",
        "outputId": "08b7e2b2-3582-405b-e872-34e629f8cdfc"
      },
      "execution_count": null,
      "outputs": [
        {
          "output_type": "stream",
          "name": "stdout",
          "text": [
            "number = 6\n",
            "0  1 1  2 3  5 "
          ]
        }
      ]
    },
    {
      "cell_type": "markdown",
      "source": [
        "Checking whether the given input is a palindrome (or) strong (or) perfect number"
      ],
      "metadata": {
        "id": "dR_aumji_X30"
      }
    },
    {
      "cell_type": "code",
      "source": [
        "#palindrome\n",
        "a=int(input(\"number = \"))\n",
        "b=a\n",
        "rev=0\n",
        "while(a!=0):\n",
        "  r=a%10\n",
        "  rev=rev*10+r\n",
        "  a=a//10\n",
        "if(rev==b):\n",
        "  print(\"it is a palindrome\")\n",
        "else:\n",
        "  print(\"it is not a palindome\")\n",
        "#strong\n",
        "n=b\n",
        "t=n\n",
        "sum=0\n",
        "while(n !=0):\n",
        "  r=n%10\n",
        "  f=1\n",
        "  while(r !=1):\n",
        "    f=f*r\n",
        "    r=r-1\n",
        "  sum=sum+f\n",
        "  n=n//10\n",
        "if(sum==t):\n",
        "  print(\"it's a strong number\")\n",
        "else:\n",
        "  print(\"it's not a strong number\")\n",
        "#perfect\n",
        "n=b\n",
        "s=0\n",
        "for i in range(1,(n//2+1)):\n",
        "  if n%i == 0:\n",
        "   s+=i\n",
        "   \n",
        "if(s == n):\n",
        "  print(\"it's a perfect number\")\n",
        "else:\n",
        "  print(\"it's not a perfect number\")"
      ],
      "metadata": {
        "colab": {
          "base_uri": "https://localhost:8080/"
        },
        "id": "hd2IE0oB_LdR",
        "outputId": "20d52a46-2699-469e-abab-127da4760493"
      },
      "execution_count": null,
      "outputs": [
        {
          "output_type": "stream",
          "name": "stdout",
          "text": [
            "number = 565\n",
            "it is a palindrome\n",
            "it's not a strong number\n",
            "it's not a perfect number\n"
          ]
        }
      ]
    },
    {
      "cell_type": "markdown",
      "source": [
        "compound interest"
      ],
      "metadata": {
        "id": "bsAJRYBOA3az"
      }
    },
    {
      "cell_type": "code",
      "source": [
        "# Python3 program to find compound interest\n",
        "principle=int(input(\"principle=\"))\n",
        "rate=float(input(\"rate=\"))\n",
        "time=int(input(\"time=\"))\n",
        "Amount = principle* (pow((1 + rate / 100), time))\n",
        "CI = Amount - principle\n",
        "print(\"Compound interest is\", CI)"
      ],
      "metadata": {
        "colab": {
          "base_uri": "https://localhost:8080/"
        },
        "id": "B7uZyjRyA4df",
        "outputId": "5d439787-70ea-4d7e-dd06-fc47ccb32eb9"
      },
      "execution_count": null,
      "outputs": [
        {
          "output_type": "stream",
          "name": "stdout",
          "text": [
            "principle=45\n",
            "rate=4\n",
            "time=30\n",
            "Compound interest is 100.95288795123938\n"
          ]
        }
      ]
    }
  ]
}